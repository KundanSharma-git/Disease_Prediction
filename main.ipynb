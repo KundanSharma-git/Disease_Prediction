{
 "cells": [
  {
   "cell_type": "code",
   "execution_count": 3,
   "id": "37625b3c",
   "metadata": {},
   "outputs": [],
   "source": [
    "import pandas as pd\n",
    "import matplotlib.pyplot as plt\n",
    "import seaborn as sns\n",
    "\n",
    "plt.rcParams['figure.figsize'] = (12, 6)\n",
    "sns.set(style=\"whitegrid\")\n",
    "\n",
    "# Paths and loading\n",
    "dataset_path = 'dataset.csv'\n",
    "symptom_description_path = 'symptom_Description.csv'\n",
    "symptom_severity_path = 'Symptom-severity.csv'\n",
    "symptom_precaution_path = 'symptom_precaution.csv'\n",
    "\n",
    "\n",
    "dataset_df = pd.read_csv(dataset_path)\n",
    "symptom_severity_df = pd.read_csv(symptom_severity_path)\n",
    "symptom_description_df = pd.read_csv(symptom_description_path)\n",
    "precaution_df = pd.read_csv(symptom_precaution_path)\n"
   ]
  },
  {
   "cell_type": "code",
   "execution_count": 4,
   "id": "a04fc7bd",
   "metadata": {},
   "outputs": [
    {
     "name": "stdout",
     "output_type": "stream",
     "text": [
      "Main dataset shape: (4920, 18)\n",
      "Symptom Severity shape: (133, 2)\n",
      "Symptom Description shape: (41, 2)\n",
      "Symptom Precaution shape: (41, 5)\n"
     ]
    }
   ],
   "source": [
    "print(f\"Main dataset shape: {dataset_df.shape}\")\n",
    "print(f\"Symptom Severity shape: {symptom_severity_df.shape}\")\n",
    "print(f\"Symptom Description shape: {symptom_description_df.shape}\")\n",
    "print(f\"Symptom Precaution shape: {precaution_df.shape}\")"
   ]
  },
  {
   "cell_type": "code",
   "execution_count": 2,
   "id": "ff30a951",
   "metadata": {},
   "outputs": [
    {
     "ename": "NameError",
     "evalue": "name 'dataset_df' is not defined",
     "output_type": "error",
     "traceback": [
      "\u001b[31m---------------------------------------------------------------------------\u001b[39m",
      "\u001b[31mNameError\u001b[39m                                 Traceback (most recent call last)",
      "\u001b[36mCell\u001b[39m\u001b[36m \u001b[39m\u001b[32mIn[2]\u001b[39m\u001b[32m, line 1\u001b[39m\n\u001b[32m----> \u001b[39m\u001b[32m1\u001b[39m missing_perc = \u001b[43mdataset_df\u001b[49m.isnull().mean() * \u001b[32m100\u001b[39m\n\u001b[32m      2\u001b[39m missing_perc = missing_perc.drop(\u001b[33m'\u001b[39m\u001b[33mDisease\u001b[39m\u001b[33m'\u001b[39m)  \u001b[38;5;66;03m# Disease column assumed no missingness\u001b[39;00m\n",
      "\u001b[31mNameError\u001b[39m: name 'dataset_df' is not defined"
     ]
    }
   ],
   "source": [
    "missing_perc = dataset_df.isnull().mean() * 100\n",
    "missing_perc = missing_perc.drop('Disease')  # Disease column assumed no missingness"
   ]
  }
 ],
 "metadata": {
  "kernelspec": {
   "display_name": "Python 3",
   "language": "python",
   "name": "python3"
  },
  "language_info": {
   "codemirror_mode": {
    "name": "ipython",
    "version": 3
   },
   "file_extension": ".py",
   "mimetype": "text/x-python",
   "name": "python",
   "nbconvert_exporter": "python",
   "pygments_lexer": "ipython3",
   "version": "3.13.3"
  }
 },
 "nbformat": 4,
 "nbformat_minor": 5
}
